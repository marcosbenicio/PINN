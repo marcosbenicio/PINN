{
 "cells": [
  {
   "attachments": {},
   "cell_type": "markdown",
   "metadata": {},
   "source": [
    "## Imports e úteis"
   ]
  },
  {
   "cell_type": "code",
   "execution_count": 1,
   "metadata": {},
   "outputs": [],
   "source": [
    "import os\n",
    "os.environ['TF_CPP_MIN_LOG_LEVEL'] = '3'\n",
    "import tensorflow as tf\n",
    "import tensorflow_probability as tfp\n",
    "tf.compat.v1.logging.set_verbosity(tf.compat.v1.logging.ERROR)\n",
    "\n",
    "import numpy as np\n",
    "from scipy.io import loadmat\n",
    "from scipy.optimize import fmin_l_bfgs_b\n",
    "import matplotlib.pyplot as plt\n",
    "from matplotlib.gridspec import GridSpec\n",
    "\n",
    "from keras.models import Model\n",
    "from keras.layers import Input, Dense, Layer\n",
    "from keras.losses import Loss, mse\n",
    "from keras.initializers import GlorotNormal\n",
    "from keras.optimizers import Optimizer\n",
    "\n",
    "np.random.seed(1234)\n",
    "tf.random.set_seed(1234)"
   ]
  },
  {
   "cell_type": "code",
   "execution_count": 2,
   "metadata": {},
   "outputs": [],
   "source": [
    "def printest(args, valor):\n",
    "    return print( \"{} : \\n {} \\n\".format(args, valor) )\n"
   ]
  },
  {
   "attachments": {},
   "cell_type": "markdown",
   "metadata": {},
   "source": [
    "# PINN : Navier Strokes"
   ]
  },
  {
   "attachments": {},
   "cell_type": "markdown",
   "metadata": {},
   "source": [
    "## Otimizador"
   ]
  },
  {
   "cell_type": "code",
   "execution_count": 10,
   "metadata": {},
   "outputs": [],
   "source": [
    "class L_BFGS_B:\n",
    "    def __init__(self, model, x_train, y_train, factr = 1e4, m=50, maxls=50, maxiter=1000):\n",
    "        self.model = model\n",
    "        #x_train = xyt, y_train = uv\n",
    "        self.x_train =  x_train #tf.constant(x_train, dtype=tf.float32)\n",
    "        self.y_train = y_train  #tf.constant(y_train, dtype=tf.float32) \n",
    "        # quando iteração termina \n",
    "        self.factr = factr\n",
    "        #The maximum number of variable metric corrections used \n",
    "        self.m = m\n",
    "        #max number of line search steps/iteration\n",
    "        # nesse caso 50/iteração\n",
    "        self.maxls = maxls \n",
    "        #max number of interation\n",
    "        self.maxiter = maxiter\n",
    "\n",
    "    # 1D --> ND\n",
    "    def set_weights(self, weights_1d):\n",
    "\n",
    "        weights_shapes = [ w.shape for w in self.model.get_weights() ]\n",
    "\n",
    "        n = [0] + [ np.prod(shape) for shape in weights_shapes ] \n",
    "        partition = np.cumsum(n) \n",
    "\n",
    "        weights = [ weights_1d[from_part:to_part].reshape(shape)\n",
    "                    for from_part, to_part, shape \n",
    "                    in zip(partition[:-1], partition[1:], weights_shapes) ]\n",
    "\n",
    "        self.model.set_weights(weights)\n",
    "        \n",
    "    @tf.function\n",
    "    def tf_evaluate(self, x, y):\n",
    "        # x = xyt , y = uv\n",
    "        with tf.GradientTape() as g:\n",
    "            uv_fuv = self.model([x, y])       \n",
    "            loss = self.model.losses[0]\n",
    "        grads = g.gradient(loss, self.model.trainable_variables, unconnected_gradients=tf.UnconnectedGradients.ZERO)\n",
    "        printest('grads',[g for g in grads])\n",
    "        return loss, grads\n",
    "\n",
    "    def evaluate(self, weights_1d):\n",
    "\n",
    "        self.set_weights(weights_1d)\n",
    "        loss, grads = self.tf_evaluate(self.x_train, self.y_train)\n",
    "        #printest('loss', loss)\n",
    "        loss = loss.numpy().astype('float64')\n",
    "        #printest('loss', loss)\n",
    "        grads = np.concatenate([ g.numpy().flatten() for g in grads ]).astype('float64')\n",
    "        #printest('grads',grads)\n",
    "        \n",
    "        return loss, grads\n",
    "    \n",
    "    def fit(self):\n",
    "\n",
    "        initial_weights = np.concatenate(\n",
    "            [ w.flatten() for w in self.model.get_weights() ])\n",
    "            \n",
    "        #self.evaluate(initial_weights)\n",
    "        fmin_l_bfgs_b(func = self.evaluate, x0 = initial_weights,\n",
    "                        factr = self.factr, m = self.m,   \n",
    "                        maxls = self.maxls, maxiter = self.maxiter) \n"
   ]
  },
  {
   "attachments": {},
   "cell_type": "markdown",
   "metadata": {},
   "source": [
    "## Layer: automatic Differentiation and Loss"
   ]
  },
  {
   "cell_type": "code",
   "execution_count": 4,
   "metadata": {},
   "outputs": [],
   "source": [
    "# funcionando normalmente!\n",
    "# tempo 4.5 s, mais rapido que ot este\n",
    "class AutomaticDiff(Layer):\n",
    "\n",
    "    def __init__(self, model):\n",
    "        \n",
    "        self.model = model\n",
    "        super().__init__()\n",
    "        self.lambda_1 = tf.Variable([0.0], trainable=True, dtype=tf.float32)\n",
    "        self.lambda_2 = tf.Variable([0.0], trainable=True, dtype=tf.float32)\n",
    "    \n",
    "    def call(self, input): \n",
    "        with tf.GradientTape(persistent = True) as ggg:\n",
    "            ggg.watch(input)\n",
    "            with tf.GradientTape(persistent = True) as gg:\n",
    "                gg.watch(input)\n",
    "                with tf.GradientTape(persistent = True) as g:\n",
    "                    g.watch(input)\n",
    "\n",
    "                    x = input[:,0:1]        # (5000, 1)\n",
    "                    y = input[:,1:2]        # (5000, 1)\n",
    "                    t = input[:,2:3]        # (5000, 1)\n",
    "                    xy = tf.concat([x, y], axis = 1)        # (5000, 2)\n",
    "                    xyt = tf.concat([xy, t], axis = 1)      # (5000, 3)\n",
    "                    \n",
    "                    p_psi = self.model(xyt) # (5000, 2)              \n",
    "                    p   = p_psi[:,0:1]      # (5000, 1)\n",
    "                    psi = p_psi[:,1:2]      # (5000, 1)    \n",
    "\n",
    "                dpdpsi_dxdy = g.batch_jacobian(p_psi, xy)  ## (5000, 2, 2)\n",
    "                dp_dxdy   = dpdpsi_dxdy[:,0,:] # (5000, 2 )\n",
    "                dp_dx = dp_dxdy[:,0:1]      # (5000, 1 )\n",
    "                dp_dy = dp_dxdy[:,1:2]      # (5000, 1 )\n",
    "                # --> dpsi_dx = -v and dpsi_dy = u\n",
    "                dpsi_dxdy = dpdpsi_dxdy[:,1,:] # (5000, 2 )\n",
    "                v = (-1)*dpsi_dxdy[:, 0:1]  # (5000, 1 )\n",
    "                u = dpsi_dxdy[:, 1:2]       # (5000, 1 )         \n",
    "            #printest('v', v)    \n",
    "            #printest('u', u)  \n",
    "            dpsi_dxdy_dxdydt = gg.batch_jacobian(dpsi_dxdy, xyt) # (5000, 2, 3)\n",
    "            #printest('dpsi_dxdy_dxdydt',dpsi_dxdy_dxdydt)\n",
    "            # from continuity eq u_x + u_y = 0 \n",
    "            # --> dpsi_dx = -v and dpsi_dy = u\n",
    "            # --> (dpsi_dy)dx_dxdydt = du_dxdydt\n",
    "            du_dxdydt = dpsi_dxdy_dxdydt[:,1,:]            ## (5000, 3)\n",
    "            du_dx = du_dxdydt[:,0:1]       # (5000, 1)\n",
    "            du_dy = du_dxdydt[:,1:2]       # (5000, 1)\n",
    "            du_dt = du_dxdydt[:,2:3]       # (5000, 1)\n",
    "            # --> (dpsi_dx)dy_dxdydt = (-1)*dv_dxdydt\n",
    "            dv_dxdydt = (-1)*dpsi_dxdy_dxdydt[:,0,:]       ## (5000, 3)\n",
    "            dv_dx = dv_dxdydt[:,0:1]       # (5000, 1)\n",
    "            dv_dy = dv_dxdydt[:,1:2]       # (5000, 1)\n",
    "            dv_dt = dv_dxdydt[:,2:3]       # (5000, 1)\n",
    "        #-------------------------------------------------------------------\n",
    "        d2u_dx2 = ggg.gradient(du_dx, x)   #(5000, 1)\n",
    "        d2u_dy2 = ggg.gradient(du_dx, y)   #(5000, 1)\n",
    "        d2v_dx2 = ggg.gradient(dv_dx, x)   #(5000, 1)\n",
    "        d2v_dy2 = ggg.gradient(dv_dx, y)   #(5000, 1)\n",
    "        #-------------------------------------------------------------------\n",
    "        #printest('d2u_dx2', d2u_dx2)\n",
    "        #printest('d2u_dy2', d2u_dy2)\n",
    "        #printest('d2v_dx2', d2v_dx2)\n",
    "        #printest('d2v_dy2', d2v_dy2)\n",
    "        del g, gg, ggg\n",
    "\n",
    "        f_u = du_dt + self.lambda_1*(u*du_dx + v*du_dy) + dp_dx - self.lambda_2*(d2u_dx2 + d2u_dy2) \n",
    "        #printest('f_u', f_u)\n",
    "        \n",
    "        f_v = dv_dt + self.lambda_1*(u*dv_dx + v*dv_dy) + dp_dy - self.lambda_2*(dv_dx + d2v_dy2)\n",
    "        #printest('f_v', f_v)\n",
    "        \n",
    "        output = tf.concat([u, v, f_u, f_v], axis = 1)\n",
    "        return output\n"
   ]
  },
  {
   "cell_type": "code",
   "execution_count": 5,
   "metadata": {},
   "outputs": [],
   "source": [
    "class AddLoss(Layer):\n",
    "    def __init__(self):\n",
    "        super().__init__()\n",
    "\n",
    "    def call(self, y_true, y_pred):\n",
    "        self.add_loss(self.custom_mse(y_true, y_pred))\n",
    "        return y_pred\n",
    "    \n",
    "    def custom_mse(self, y_true, y_pred ):\n",
    "        \n",
    "        u_true, u_pred = y_true[:,0:1], y_pred[:,0:1]\n",
    "        loss_1 =  tf.reduce_sum(tf.square(u_true - u_pred))\n",
    "        \n",
    "        v_true, v_pred = y_true[:,1:2], y_pred[:,1:2]\n",
    "        loss_2 =  tf.reduce_sum(tf.square(y_true[:,1:2] - y_pred[:,1:2]))\n",
    "        \n",
    "        f_u_pred, f_v_pred = y_pred[:,2:3], y_pred[:,3:4]\n",
    "        loss_3 =  tf.reduce_sum(tf.square(f_u_pred)) + tf.reduce_sum(tf.square(f_v_pred))\n",
    "        \n",
    "        loss = loss_1 + loss_2 + loss_3\n",
    "        return loss"
   ]
  },
  {
   "attachments": {},
   "cell_type": "markdown",
   "metadata": {},
   "source": [
    "## Model: Neural Network"
   ]
  },
  {
   "cell_type": "code",
   "execution_count": 6,
   "metadata": {},
   "outputs": [],
   "source": [
    "class NeuralNet(Model):\n",
    "#[100, 100, 100, 100, 100, 100, 100, 100]\n",
    "    def __init__(self, hidden_units = [ 20, 20], input_unit = 3, output_unit = 2, activation_func = 'tanh', initializer = \"glorot_normal\"):\n",
    "        super().__init__()\n",
    "\n",
    "        self.units = hidden_units\n",
    "        self.input_unit = input_unit\n",
    "        self.output_unit = output_unit\n",
    "        self.activation_func = activation_func\n",
    "        self.initializer = initializer\n",
    "        # Hidden Layer\n",
    "        self.hidden_layer = []\n",
    "        count = 0\n",
    "        for unit in hidden_units:\n",
    "            self.hidden_layer.append( Dense( units = unit, \n",
    "                                             kernel_initializer = self.initializer, \n",
    "                                             activation = activation_func,\n",
    "                                             name = 'Hidden_{}'.format(count) ) )\n",
    "            count += 1\n",
    "            \n",
    "        # Output layer    \n",
    "        self.output_layer = Dense( units = output_unit, \n",
    "                                    kernel_initializer = self.initializer,\n",
    "                                    name = \"Output\" )\n",
    "\n",
    "    def call(self, x): # call directly if dont need intermediate step\n",
    "        for hidden in self.hidden_layer:\n",
    "            x = hidden(x)\n",
    "        x = self.output_layer(x)\n",
    "        return x\n",
    "\n",
    "    def build(self): # intermediate step to generate a graph\n",
    "        x = Input( shape = (self.input_unit,), name = \"Input\" )\n",
    "        return Model( inputs = [x], \n",
    "                        outputs = self.call(x), \n",
    "                        name = \"NeuralNetwork\" )"
   ]
  },
  {
   "attachments": {},
   "cell_type": "markdown",
   "metadata": {},
   "source": [
    "### Model: graph visualization"
   ]
  },
  {
   "cell_type": "code",
   "execution_count": 241,
   "metadata": {},
   "outputs": [],
   "source": [
    "nn_model = NeuralNet().build()"
   ]
  },
  {
   "cell_type": "code",
   "execution_count": 242,
   "metadata": {},
   "outputs": [
    {
     "data": {
      "image/png": "[encoded data removed]",
      "text/plain": [
       "<IPython.core.display.Image object>"
      ]
     },
     "execution_count": 242,
     "metadata": {},
     "output_type": "execute_result"
    }
   ],
   "source": [
    "\n",
    "tf.keras.utils.plot_model(nn_model, to_file= './model_1.png', show_shapes=True, \n",
    "                    show_dtype=True, show_layer_names=True, show_layer_activations = True)"
   ]
  },
  {
   "attachments": {},
   "cell_type": "markdown",
   "metadata": {},
   "source": [
    "## Model: Physics Informed"
   ]
  },
  {
   "cell_type": "code",
   "execution_count": 7,
   "metadata": {},
   "outputs": [],
   "source": [
    "class PhysicsInformedNN(Model):\n",
    "    def __init__(self, model):\n",
    "        super(PhysicsInformedNN, self).__init__()\n",
    "        \n",
    "        # init layers \n",
    "        self.model = model\n",
    "        self.grad_layer = AutomaticDiff(model)\n",
    "        self.addloss_layer = AddLoss( )\n",
    "    \n",
    "    def call(self, inputs):\n",
    "        xyt = inputs[0]\n",
    "        uv = inputs[1]\n",
    "        # uv_fuv =  u, v, f_u, f_v\n",
    "        uv_fuv =  self.grad_layer(xyt) \n",
    "        uv_fuv = self.addloss_layer(y_true = uv, y_pred = uv_fuv)\n",
    "        return uv_fuv\n",
    "    \n",
    "    def build(self):\n",
    "        # problkema esta em xyt ser um placeholder     \n",
    "        xyt = Input(shape = (3,), name = \"InputLayer_xyt\")\n",
    "        uv = Input(shape = (2,), name = \"InputLayer_uv\")\n",
    "        inputs = [xyt, uv]\n",
    "        return Model(inputs = inputs,\n",
    "                     outputs = self.call(inputs),\n",
    "                     name = 'PhysicsInformedNN')"
   ]
  },
  {
   "attachments": {},
   "cell_type": "markdown",
   "metadata": {},
   "source": [
    "### Model: graph visualization"
   ]
  },
  {
   "cell_type": "code",
   "execution_count": 373,
   "metadata": {},
   "outputs": [
    {
     "name": "stdout",
     "output_type": "stream",
     "text": [
      "d2u_dx2 : \n",
      " Tensor(\"gradient_tape/automatic_diff_91/Slice_10:0\", shape=(None, 1), dtype=float32) \n",
      "\n",
      "d2u_dy2 : \n",
      " Tensor(\"gradient_tape/automatic_diff_91/Slice_15:0\", shape=(None, 1), dtype=float32) \n",
      "\n",
      "d2v_dx2 : \n",
      " Tensor(\"gradient_tape/automatic_diff_91/Slice_18:0\", shape=(None, 1), dtype=float32) \n",
      "\n",
      "d2v_dy2 : \n",
      " Tensor(\"gradient_tape/automatic_diff_91/Slice_23:0\", shape=(None, 1), dtype=float32) \n",
      "\n",
      "f_u : \n",
      " Tensor(\"automatic_diff_91/sub:0\", shape=(None, 1), dtype=float32) \n",
      "\n",
      "f_v : \n",
      " Tensor(\"automatic_diff_91/sub_1:0\", shape=(None, 1), dtype=float32) \n",
      "\n"
     ]
    }
   ],
   "source": [
    "pinn_model = PhysicsInformedNN(model = nn_model).build()"
   ]
  },
  {
   "cell_type": "code",
   "execution_count": 374,
   "metadata": {},
   "outputs": [
    {
     "data": {
      "image/png": "[encoded data removed]",
      "text/plain": [
       "<IPython.core.display.Image object>"
      ]
     },
     "execution_count": 374,
     "metadata": {},
     "output_type": "execute_result"
    }
   ],
   "source": [
    "tf.keras.utils.plot_model(pinn_model, to_file= './pinn_1.png', show_shapes= True,\n",
    "                    show_dtype=True, show_layer_names=True, show_layer_activations = True)"
   ]
  },
  {
   "attachments": {},
   "cell_type": "markdown",
   "metadata": {},
   "source": [
    "## Main"
   ]
  },
  {
   "cell_type": "code",
   "execution_count": 8,
   "metadata": {},
   "outputs": [],
   "source": [
    "n_train = 500\n",
    "\n",
    "# load dictionary Data\n",
    "# keys: 'X_star: [x, y]', 'U_star : [u, v]', 'p_star : [p]', 't : [t]',\n",
    "data = loadmat('./Data/cylinder_nektar_wake.mat')\n",
    "\n",
    "# Rearrange Data                        shapes:\n",
    "uv = data['U_star']                 # (5000, 2, 200) - N x 2 X T\n",
    "u = uv[:,0,:]                       # (5000, 200)     - N x T\n",
    "v = uv[:,1,:]                       # (5000, 200)     - N x T\n",
    "\n",
    "# N = 5000, T = 200\n",
    "N,T = (uv.shape[0], uv.shape[2]) \n",
    "\n",
    "xy = data['X_star']                 # (5000, 2)     - N x 2\n",
    "x = np.tile(xy[:, 0:1], (1,T))      # (5000, 200)    - N x T\n",
    "y = np.tile(xy[:, 1:2], (1,T))      # (5000, 200)    - N x T\n",
    "\n",
    "t = data['t']                       # (200 , 1)      - T x 1\n",
    "t = np.tile(t, (1,N)).T             # (5000, 200)     - N x T\n",
    "p = data['p_star']                  # (5000, 200)     - N x T\n",
    "\n",
    "# 1D arrays : (10000, 1) - NT x 1\n",
    "x_1d = x.flatten()[:,None]\n",
    "y_1d = y.flatten()[:,None]\n",
    "t_1d = t.flatten()[:,None]\n",
    "\n",
    "u_1d = u.flatten()[:,None]          \n",
    "v_1d = v.flatten()[:,None]          \n",
    "p_1d = p.flatten()[:,None]\n",
    "\n",
    "# Training Data : (5000, 1)\n",
    "indices = np.random.choice(N*T, n_train, replace = False)\n",
    "x_train = x_1d[indices]\n",
    "y_train = y_1d[indices]\n",
    "t_train = t_1d[indices]\n",
    "u_train = u_1d[indices]\n",
    "v_train = v_1d[indices]\n",
    "\n",
    "xyt = tf.concat( (x_1d[indices], y_1d[indices], t_1d[indices]), axis = 1)\n",
    "uv  = tf.concat( (u_1d[indices], v_1d[indices]), axis = 1) \n"
   ]
  },
  {
   "cell_type": "code",
   "execution_count": 11,
   "metadata": {},
   "outputs": [],
   "source": [
    "nn_model = NeuralNet().build()\n",
    "pinn_model = PhysicsInformedNN(model = nn_model).build()"
   ]
  },
  {
   "cell_type": "code",
   "execution_count": 12,
   "metadata": {},
   "outputs": [
    {
     "name": "stdout",
     "output_type": "stream",
     "text": [
      "grads : \n",
      " [<tf.Tensor 'AddN_42:0' shape=(1,) dtype=float32>, <tf.Tensor 'AddN_43:0' shape=(1,) dtype=float32>, <tf.Tensor 'AddN_41:0' shape=(3, 20) dtype=float32>, <tf.Tensor 'gradient_tape/PhysicsInformedNN/automatic_diff_1/NeuralNetwork/Hidden_0/BiasAdd/BiasAddGrad_6:0' shape=(20,) dtype=float32>, <tf.Tensor 'AddN_39:0' shape=(20, 20) dtype=float32>, <tf.Tensor 'gradient_tape/PhysicsInformedNN/automatic_diff_1/NeuralNetwork/Hidden_1/BiasAdd/BiasAddGrad_6:0' shape=(20,) dtype=float32>, <tf.Tensor 'gradient_tape/gradient_tape/PhysicsInformedNN/automatic_diff_1/NeuralNetwork/Output/MatMul/MatMul/pfor/MatMul/MatMul_5:0' shape=(20, 2) dtype=float32>, <tf.Tensor 'zeros_like:0' shape=(2,) dtype=float32>] \n",
      "\n"
     ]
    }
   ],
   "source": [
    "lbfgs = L_BFGS_B(model = pinn_model, x_train = xyt, y_train = uv)\n",
    "lbfgs.fit()"
   ]
  }
 ],
 "metadata": {
  "kernelspec": {
   "display_name": "Python 3",
   "language": "python",
   "name": "python3"
  },
  "language_info": {
   "codemirror_mode": {
    "name": "ipython",
    "version": 3
   },
   "file_extension": ".py",
   "mimetype": "text/x-python",
   "name": "python",
   "nbconvert_exporter": "python",
   "pygments_lexer": "ipython3",
   "version": "3.10.2"
  },
  "orig_nbformat": 4,
  "vscode": {
   "interpreter": {
    "hash": "0743c798041383927c03f3bae5eca888e94e4777f716cdd511cdff96fbdedc02"
   }
  }
 },
 "nbformat": 4,
 "nbformat_minor": 2
}
